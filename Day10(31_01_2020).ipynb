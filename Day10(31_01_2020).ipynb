{
  "nbformat": 4,
  "nbformat_minor": 0,
  "metadata": {
    "colab": {
      "name": "Day10(31-01-2020).ipynb",
      "provenance": [],
      "authorship_tag": "ABX9TyMTNxsK39cZIjYEpjUVLFsg",
      "include_colab_link": true
    },
    "kernelspec": {
      "name": "python3",
      "display_name": "Python 3"
    }
  },
  "cells": [
    {
      "cell_type": "markdown",
      "metadata": {
        "id": "view-in-github",
        "colab_type": "text"
      },
      "source": [
        "<a href=\"https://colab.research.google.com/github/mummy11/jntua/blob/master/Day10(31_01_2020).ipynb\" target=\"_parent\"><img src=\"https://colab.research.google.com/assets/colab-badge.svg\" alt=\"Open In Colab\"/></a>"
      ]
    },
    {
      "cell_type": "code",
      "metadata": {
        "id": "xk6Fv7Baw9Gp",
        "colab_type": "code",
        "colab": {}
      },
      "source": [
        ""
      ],
      "execution_count": 0,
      "outputs": []
    },
    {
      "cell_type": "markdown",
      "metadata": {
        "id": "UYunlhxAxY5h",
        "colab_type": "text"
      },
      "source": [
        "# Loops\n",
        "\n",
        "*   While loop\n",
        "*   For loop\n",
        "\n"
      ]
    },
    {
      "cell_type": "code",
      "metadata": {
        "id": "_e4rjt88xqjn",
        "colab_type": "code",
        "colab": {
          "base_uri": "https://localhost:8080/",
          "height": 202
        },
        "outputId": "648f104e-61f2-4236-fa3f-a38085d75c39"
      },
      "source": [
        "# print numbers from 1 to 10\n",
        "# input 10\n",
        "# output 1,2,3,4,5,6,...10\n",
        "n=int(input(\"enter a number\"))\n",
        "i=1\n",
        "while i<=n:\n",
        "  print(i)\n",
        "  i=i+1"
      ],
      "execution_count": 1,
      "outputs": [
        {
          "output_type": "stream",
          "text": [
            "enter a number10\n",
            "1\n",
            "2\n",
            "3\n",
            "4\n",
            "5\n",
            "6\n",
            "7\n",
            "8\n",
            "9\n",
            "10\n"
          ],
          "name": "stdout"
        }
      ]
    },
    {
      "cell_type": "code",
      "metadata": {
        "id": "JnNR0WyQzdpK",
        "colab_type": "code",
        "colab": {
          "base_uri": "https://localhost:8080/",
          "height": 50
        },
        "outputId": "b01e4ccd-3842-4324-bc06-6cd8df692c3b"
      },
      "source": [
        "# print sum of even numbers \n",
        "n=int(input(\"enter a number\"))\n",
        "sum=0\n",
        "i=1\n",
        "while i<=n:\n",
        "  if i%2==0:\n",
        "    sum=sum+i\n",
        "  i=i+1\n",
        "print(sum)\n",
        "  \n",
        "\n"
      ],
      "execution_count": 13,
      "outputs": [
        {
          "output_type": "stream",
          "text": [
            "enter a number5\n",
            "6\n"
          ],
          "name": "stdout"
        }
      ]
    },
    {
      "cell_type": "markdown",
      "metadata": {
        "id": "lzO8SOus2xjv",
        "colab_type": "text"
      },
      "source": [
        "# palindrome\n",
        "\n"
      ]
    },
    {
      "cell_type": "code",
      "metadata": {
        "id": "ScjcSdRA22wk",
        "colab_type": "code",
        "colab": {
          "base_uri": "https://localhost:8080/",
          "height": 50
        },
        "outputId": "b914fac4-9b8a-420e-ed63-e8cfd40889d9"
      },
      "source": [
        "# palindrome\n",
        "n=int(input(\"enter a number\"))\n",
        "temp=n\n",
        "rev=0\n",
        "while n>0:\n",
        "  dig=n%10\n",
        "  rev=rev*10+dig\n",
        "  n=n//10\n",
        "if temp==rev:\n",
        "  print(\"palindrome\")\n",
        "else:\n",
        "  print(\"not palindrome\")\n",
        "\n"
      ],
      "execution_count": 18,
      "outputs": [
        {
          "output_type": "stream",
          "text": [
            "enter a number12321\n",
            "palindrome\n"
          ],
          "name": "stdout"
        }
      ]
    },
    {
      "cell_type": "code",
      "metadata": {
        "id": "Ea_r80z482ZK",
        "colab_type": "code",
        "colab": {}
      },
      "source": [
        ""
      ],
      "execution_count": 0,
      "outputs": []
    },
    {
      "cell_type": "markdown",
      "metadata": {
        "id": "2rCdI5er9Dzt",
        "colab_type": "text"
      },
      "source": [
        "# Functional programming\n",
        "\n",
        "\n",
        "*   Simple\n",
        "*   easy to understand\n",
        "*   better reuseability\n",
        "*   lengthy program will be divided into sub programs\n",
        "\n"
      ]
    },
    {
      "cell_type": "code",
      "metadata": {
        "id": "rbKXMJu692oC",
        "colab_type": "code",
        "colab": {
          "base_uri": "https://localhost:8080/",
          "height": 34
        },
        "outputId": "2dd5aaba-bbef-4692-8112-129650a184f8"
      },
      "source": [
        "# sum of even number\n",
        "# input 1234\n",
        "# output(2+4)=6\n",
        "def sumofevendigits(n):\n",
        "  s=0\n",
        "  while n!=0:\n",
        "    r=n%10\n",
        "    if r%2==0:\n",
        "      s=s+r\n",
        "    n=n//10\n",
        "  return s\n",
        "sumofevendigits(1234)"
      ],
      "execution_count": 19,
      "outputs": [
        {
          "output_type": "execute_result",
          "data": {
            "text/plain": [
              "6"
            ]
          },
          "metadata": {
            "tags": []
          },
          "execution_count": 19
        }
      ]
    },
    {
      "cell_type": "markdown",
      "metadata": {
        "id": "PM2aaZtpF78Y",
        "colab_type": "text"
      },
      "source": [
        "# print the largest digit from a group of numbers"
      ]
    },
    {
      "cell_type": "code",
      "metadata": {
        "id": "BllcqoEzD2AE",
        "colab_type": "code",
        "colab": {
          "base_uri": "https://localhost:8080/",
          "height": 34
        },
        "outputId": "499fbdec-5af5-406d-ddfe-d1ce01770f01"
      },
      "source": [
        "# largest number\n",
        "def large(n):\n",
        "  lar=0\n",
        "  while n!=0:\n",
        "    r=n%10\n",
        "    if lar<r:\n",
        "      lar=r\n",
        "    n=n//10\n",
        "  return lar\n",
        "large(12343)"
      ],
      "execution_count": 24,
      "outputs": [
        {
          "output_type": "execute_result",
          "data": {
            "text/plain": [
              "4"
            ]
          },
          "metadata": {
            "tags": []
          },
          "execution_count": 24
        }
      ]
    },
    {
      "cell_type": "markdown",
      "metadata": {
        "id": "WrwKTjYlIbqB",
        "colab_type": "text"
      },
      "source": [
        "# for loop \n",
        "# syntax:\n",
        "# for in range(start,stop,step)\n",
        "#     statements"
      ]
    },
    {
      "cell_type": "code",
      "metadata": {
        "id": "pG2fWTLOIwId",
        "colab_type": "code",
        "colab": {}
      },
      "source": [
        "# syntax:\n",
        "for in range(start,stop,step):\n",
        "    statements\n",
        "\n"
      ],
      "execution_count": 0,
      "outputs": []
    },
    {
      "cell_type": "code",
      "metadata": {
        "id": "E-P0NwCrJJkE",
        "colab_type": "code",
        "colab": {
          "base_uri": "https://localhost:8080/",
          "height": 34
        },
        "outputId": "e2c50839-a039-4aed-e02c-b470e9ca57c6"
      },
      "source": [
        "# print the numbers in between limits\n",
        "# input : 11 25\n",
        "#output :11,12,13,....24,25\n",
        "def printseries(fn,ln):\n",
        "  for i in range(fn,ln+1,4):\n",
        "    print(i,end=\" \")\n",
        "  return\n",
        "printseries(500,520)\n"
      ],
      "execution_count": 32,
      "outputs": [
        {
          "output_type": "stream",
          "text": [
            "500 504 508 512 516 520 "
          ],
          "name": "stdout"
        }
      ]
    },
    {
      "cell_type": "code",
      "metadata": {
        "id": "OUwksWP8KslE",
        "colab_type": "code",
        "colab": {
          "base_uri": "https://localhost:8080/",
          "height": 34
        },
        "outputId": "6a126c0b-0c85-4e91-d324-cc1bf0950fc3"
      },
      "source": [
        "def prints(n):\n",
        "  for i in range(1,n+1,2):\n",
        "    i=i+1\n",
        "    #print(i)\n",
        "  print(i)\n",
        "  return\n",
        "prints(10)\n",
        "\n"
      ],
      "execution_count": 37,
      "outputs": [
        {
          "output_type": "stream",
          "text": [
            "10\n"
          ],
          "name": "stdout"
        }
      ]
    },
    {
      "cell_type": "markdown",
      "metadata": {
        "id": "BJ2tICXeNAos",
        "colab_type": "text"
      },
      "source": [
        "# COLLECTION TYPES\n",
        "\n",
        "\n",
        "*   LIST\n",
        "*   TUPLE\n",
        "*   DICTONARY\n",
        "\n",
        "\n",
        "# List\n",
        "\n",
        "\n",
        "*  one of the data structure in python\n",
        "\n",
        "*   data structure means to store ,sort and search options\n",
        "*   its one common data structure in python,the items of list separated by comma and enclosed by square brackets.\n",
        "\n",
        "\n",
        "1.   List was immutable(i.e,values can change)\n",
        "*   ex:\n",
        "*   list=[1,2,3,4]\n",
        "*   list=[\"jntua\",\"dasd\"]\n",
        "\n",
        "\n"
      ]
    },
    {
      "cell_type": "code",
      "metadata": {
        "id": "sg6UljCvPCNM",
        "colab_type": "code",
        "colab": {
          "base_uri": "https://localhost:8080/",
          "height": 134
        },
        "outputId": "902f6d46-70b0-4885-e961-462e67f71f13"
      },
      "source": [
        "li=[1,2,3,4]\n",
        "print(li)\n",
        "print(li[2])\n",
        "print(li[-3])\n",
        "print(li[2:])\n",
        "print(li[1:4])\n",
        "print(li[:-1])\n",
        "print(li[::2])"
      ],
      "execution_count": 49,
      "outputs": [
        {
          "output_type": "stream",
          "text": [
            "[1, 2, 3, 4]\n",
            "3\n",
            "2\n",
            "[3, 4]\n",
            "[2, 3, 4]\n",
            "[1, 2, 3]\n",
            "[1, 3]\n"
          ],
          "name": "stdout"
        }
      ]
    },
    {
      "cell_type": "code",
      "metadata": {
        "id": "I_oAwsKebmS3",
        "colab_type": "code",
        "colab": {
          "base_uri": "https://localhost:8080/",
          "height": 67
        },
        "outputId": "8da092d1-da1c-43fb-deab-e699dc4bde67"
      },
      "source": [
        "# update list\n",
        "li=[\"jntua\",8,\"antpr\",5,4]\n",
        "print(li)\n",
        "li[1]=\"123\"\n",
        "print(li)\n",
        "del li[3]\n",
        "print(li)\n"
      ],
      "execution_count": 51,
      "outputs": [
        {
          "output_type": "stream",
          "text": [
            "['jntua', 8, 'antpr', 5, 4]\n",
            "['jntua', '123', 'antpr', 5, 4]\n",
            "['jntua', '123', 'antpr', 4]\n"
          ],
          "name": "stdout"
        }
      ]
    },
    {
      "cell_type": "code",
      "metadata": {
        "id": "0ZwigGyPdLzv",
        "colab_type": "code",
        "colab": {
          "base_uri": "https://localhost:8080/",
          "height": 67
        },
        "outputId": "36802d46-4537-4a83-90fc-7675a7f1cd7e"
      },
      "source": [
        "# basic list operations\n",
        "li=[1,2,3,4,5,6]\n",
        "print(len(li))\n",
        "print(li*3)\n",
        "# to check weather number present in list or not\n",
        "print(4 in li)\n"
      ],
      "execution_count": 56,
      "outputs": [
        {
          "output_type": "stream",
          "text": [
            "6\n",
            "[1, 2, 3, 4, 5, 6, 1, 2, 3, 4, 5, 6, 1, 2, 3, 4, 5, 6]\n",
            "True\n"
          ],
          "name": "stdout"
        }
      ]
    },
    {
      "cell_type": "markdown",
      "metadata": {
        "id": "jS1rS5s7eBTm",
        "colab_type": "text"
      },
      "source": [
        "# List Funtions\n",
        "*  max\n",
        "*  min\n",
        "*  sum\n",
        "*   append\n",
        "*   insert\n",
        "*   count\n",
        "*   index\n",
        "*   sort\n",
        "*   pop"
      ]
    },
    {
      "cell_type": "code",
      "metadata": {
        "colab_type": "code",
        "outputId": "12d02634-ee73-4f4c-a7d4-c3e0a1d7222a",
        "id": "iBcz1wKVfrT7",
        "colab": {
          "base_uri": "https://localhost:8080/",
          "height": 50
        }
      },
      "source": [
        "list1=[1,2,3,4,5,67]\n",
        "print(max(list1))\n",
        "print(min(list1))\n",
        "#print(sum(list1))\n"
      ],
      "execution_count": 64,
      "outputs": [
        {
          "output_type": "stream",
          "text": [
            "67\n",
            "1\n"
          ],
          "name": "stdout"
        }
      ]
    },
    {
      "cell_type": "code",
      "metadata": {
        "id": "5HI-JY6Xg-Eh",
        "colab_type": "code",
        "colab": {
          "base_uri": "https://localhost:8080/",
          "height": 118
        },
        "outputId": "49f0c1db-62b7-4af5-8d23-1e60cfa5ae5d"
      },
      "source": [
        "li=[1,2,4,5,6,7,4,5,4,45,6,4]\n",
        "li.append(24)\n",
        "li.insert(2,12)\n",
        "print(li.count(4))\n",
        "print(li.index(7))\n",
        "print(li)\n",
        "li.sort()\n",
        "print(li)\n",
        "li.pop()\n",
        "print(li)\n",
        "li.pop(4)\n",
        "print(li)\n",
        "\n"
      ],
      "execution_count": 70,
      "outputs": [
        {
          "output_type": "stream",
          "text": [
            "4\n",
            "6\n",
            "[1, 2, 12, 4, 5, 6, 7, 4, 5, 4, 45, 6, 4, 24]\n",
            "[1, 2, 4, 4, 4, 4, 5, 5, 6, 6, 7, 12, 24, 45]\n",
            "[1, 2, 4, 4, 4, 4, 5, 5, 6, 6, 7, 12, 24]\n",
            "[1, 2, 4, 4, 4, 5, 5, 6, 6, 7, 12, 24]\n"
          ],
          "name": "stdout"
        }
      ]
    },
    {
      "cell_type": "code",
      "metadata": {
        "id": "-L5_5BZDjd-W",
        "colab_type": "code",
        "colab": {
          "base_uri": "https://localhost:8080/",
          "height": 151
        },
        "outputId": "d2fce6ba-e9fb-48ec-802d-f57b60c6119e"
      },
      "source": [
        "# by using function return large number from the list\n",
        "def largenumber(li):\n",
        "  li.sort()\n",
        "  return li[-1]\n",
        "def genericlarge(li,n):\n",
        "  li.sort()\n",
        "  return li[-n]\n",
        "# to print small number\n",
        "def smallnumber(li):\n",
        "  li.sort()\n",
        "  return li[0]\n",
        "def genericsmall(li,n):\n",
        "  li.sort()\n",
        "  return li[n]\n",
        "li=[1,2,33,44,21,34]\n",
        "print(largenumber(li))\n",
        "print(li)\n",
        "print(genericlarge(li,3))\n",
        "print(li)\n",
        "print(smallnumber(li))\n",
        "print(li)\n",
        "print(genericsmall(li,2))\n",
        "print(li)\n"
      ],
      "execution_count": 84,
      "outputs": [
        {
          "output_type": "stream",
          "text": [
            "44\n",
            "[1, 2, 21, 33, 34, 44]\n",
            "33\n",
            "[1, 2, 21, 33, 34, 44]\n",
            "1\n",
            "[1, 2, 21, 33, 34, 44]\n",
            "21\n",
            "[1, 2, 21, 33, 34, 44]\n"
          ],
          "name": "stdout"
        }
      ]
    }
  ]
}