{
  "nbformat": 4,
  "nbformat_minor": 0,
  "metadata": {
    "colab": {
      "name": "day9(30-01-2020).ipynb",
      "provenance": [],
      "collapsed_sections": [],
      "authorship_tag": "ABX9TyM6N8Ik/TCIQG9zgofoTjVW",
      "include_colab_link": true
    },
    "kernelspec": {
      "name": "python3",
      "display_name": "Python 3"
    }
  },
  "cells": [
    {
      "cell_type": "markdown",
      "metadata": {
        "id": "view-in-github",
        "colab_type": "text"
      },
      "source": [
        "<a href=\"https://colab.research.google.com/github/mummy11/jntua/blob/master/day9(30_01_2020).ipynb\" target=\"_parent\"><img src=\"https://colab.research.google.com/assets/colab-badge.svg\" alt=\"Open In Colab\"/></a>"
      ]
    },
    {
      "cell_type": "code",
      "metadata": {
        "id": "8j3Fzbml8Kwi",
        "colab_type": "code",
        "colab": {}
      },
      "source": [
        ""
      ],
      "execution_count": 0,
      "outputs": []
    },
    {
      "cell_type": "markdown",
      "metadata": {
        "id": "DwwqtguZ9nyH",
        "colab_type": "text"
      },
      "source": [
        "# Markdown\n",
        "## Markdown\n",
        "### Markdown"
      ]
    },
    {
      "cell_type": "code",
      "metadata": {
        "id": "RtHZ9heK-Kl0",
        "colab_type": "code",
        "colab": {}
      },
      "source": [
        ""
      ],
      "execution_count": 0,
      "outputs": []
    },
    {
      "cell_type": "markdown",
      "metadata": {
        "id": "AWDiyIpb-fwT",
        "colab_type": "text"
      },
      "source": [
        "**points**\n",
        "\n",
        "*padma*\n",
        "\n",
        " ***padmapriya***"
      ]
    },
    {
      "cell_type": "code",
      "metadata": {
        "id": "bHsIqchV_f5V",
        "colab_type": "code",
        "colab": {}
      },
      "source": [
        ""
      ],
      "execution_count": 0,
      "outputs": []
    },
    {
      "cell_type": "markdown",
      "metadata": {
        "id": "-Vvt4QSE_g1k",
        "colab_type": "text"
      },
      "source": [
        ""
      ]
    },
    {
      "cell_type": "code",
      "metadata": {
        "id": "GP-ZHIGL_uc9",
        "colab_type": "code",
        "colab": {
          "base_uri": "https://localhost:8080/",
          "height": 34
        },
        "outputId": "2dc440d3-266a-4d1f-e217-3bbd600d3ffa"
      },
      "source": [
        "print('hello')"
      ],
      "execution_count": 2,
      "outputs": [
        {
          "output_type": "stream",
          "text": [
            "hello\n"
          ],
          "name": "stdout"
        }
      ]
    },
    {
      "cell_type": "markdown",
      "metadata": {
        "id": "G-cr73XtA6_v",
        "colab_type": "text"
      },
      "source": [
        "***Adding links to Markdown***\n",
        "[site](https://www.jntua.ac.in/)"
      ]
    },
    {
      "cell_type": "code",
      "metadata": {
        "id": "IKLmm8SIBerh",
        "colab_type": "code",
        "colab": {}
      },
      "source": [
        ""
      ],
      "execution_count": 0,
      "outputs": []
    },
    {
      "cell_type": "markdown",
      "metadata": {
        "id": "FXwX4-47Bu0m",
        "colab_type": "text"
      },
      "source": [
        "***inserting image***\n",
        "![jntua](https://www.jntua.ac.in/wp-content/uploads/2018/04/slider01.jpg)"
      ]
    },
    {
      "cell_type": "code",
      "metadata": {
        "id": "eCLjoMpQCtiR",
        "colab_type": "code",
        "colab": {
          "base_uri": "https://localhost:8080/",
          "height": 67
        },
        "outputId": "98b5e204-99a1-4e21-85c4-4fbf58671991"
      },
      "source": [
        "print(\"hello world!\")\n",
        "print(\"hello,jntua\")\n",
        "print(\"hello, jntua\",\"|||\",\"computer\",\"|||\",\"cse\",\"|||\",\"mca\")"
      ],
      "execution_count": 6,
      "outputs": [
        {
          "output_type": "stream",
          "text": [
            "hello world!\n",
            "hello,jntua\n",
            "hello, jntua ||| computer ||| cse ||| mca\n"
          ],
          "name": "stdout"
        }
      ]
    },
    {
      "cell_type": "code",
      "metadata": {
        "id": "gDLXChQRCMuP",
        "colab_type": "code",
        "colab": {}
      },
      "source": [
        ""
      ],
      "execution_count": 0,
      "outputs": []
    },
    {
      "cell_type": "markdown",
      "metadata": {
        "id": "cFkxnzTII14I",
        "colab_type": "text"
      },
      "source": [
        "*ASSIGGNMENT*"
      ]
    },
    {
      "cell_type": "code",
      "metadata": {
        "id": "NKtFp_qvI6jA",
        "colab_type": "code",
        "colab": {
          "base_uri": "https://localhost:8080/",
          "height": 67
        },
        "outputId": "dccd096e-c569-445a-e1c8-45d18ec6fae6"
      },
      "source": [
        "n1=100 #single variable assignment\n",
        "n1\n",
        "print(n1)\n",
        "a=b=c=10 #multi variable assignment of same variable\n",
        "\n",
        "print(a,b,c)\n",
        "a1,b1,c1=100,200,300 # multiple values assignment\n",
        "print(a1,b1,c1)\n"
      ],
      "execution_count": 13,
      "outputs": [
        {
          "output_type": "stream",
          "text": [
            "100\n",
            "10 10 10\n",
            "100 200 300\n"
          ],
          "name": "stdout"
        }
      ]
    },
    {
      "cell_type": "markdown",
      "metadata": {
        "id": "dh0McDZrKfxY",
        "colab_type": "text"
      },
      "source": [
        " # DataTypes and conversions\n",
        "\n",
        "*   int\n",
        "*   float\n",
        "*   string\n",
        "\n"
      ]
    },
    {
      "cell_type": "code",
      "metadata": {
        "id": "EfIghD9OJbcI",
        "colab_type": "code",
        "colab": {
          "base_uri": "https://localhost:8080/",
          "height": 34
        },
        "outputId": "5e9afedb-f92d-42cc-dfc0-106950894a6d"
      },
      "source": [
        "a=100\n",
        "s=10.2\n",
        "str=\"python\"\n",
        "print(type(a),type(s),type(str))"
      ],
      "execution_count": 14,
      "outputs": [
        {
          "output_type": "stream",
          "text": [
            "<class 'int'> <class 'float'> <class 'str'>\n"
          ],
          "name": "stdout"
        }
      ]
    },
    {
      "cell_type": "code",
      "metadata": {
        "id": "ywtiMfpGLxVe",
        "colab_type": "code",
        "colab": {
          "base_uri": "https://localhost:8080/",
          "height": 128
        },
        "outputId": "aa924a96-4eac-4a35-8f00-b1bf64c286ba"
      },
      "source": [
        "i=10\n",
        "print(type(i))\n",
        "s1=str(i)\n",
        "print(type(s1)\n",
        "f2=float(i)\n",
        "print(type(f2))"
      ],
      "execution_count": 25,
      "outputs": [
        {
          "output_type": "error",
          "ename": "SyntaxError",
          "evalue": "ignored",
          "traceback": [
            "\u001b[0;36m  File \u001b[0;32m\"<ipython-input-25-8788a79a2876>\"\u001b[0;36m, line \u001b[0;32m5\u001b[0m\n\u001b[0;31m    f2=float(i)\u001b[0m\n\u001b[0m     ^\u001b[0m\n\u001b[0;31mSyntaxError\u001b[0m\u001b[0;31m:\u001b[0m invalid syntax\n"
          ]
        }
      ]
    },
    {
      "cell_type": "markdown",
      "metadata": {
        "id": "aR5OmnlgNfgb",
        "colab_type": "text"
      },
      "source": [
        "# reading input from user--input function\n"
      ]
    },
    {
      "cell_type": "code",
      "metadata": {
        "id": "TuWwo654Njhb",
        "colab_type": "code",
        "colab": {
          "base_uri": "https://localhost:8080/",
          "height": 67
        },
        "outputId": "2beea48c-1a2e-498c-dfe2-df5e51295fe9"
      },
      "source": [
        "a=input(\"enter your name\")\n",
        "print(a)\n",
        "print(type(a))"
      ],
      "execution_count": 23,
      "outputs": [
        {
          "output_type": "stream",
          "text": [
            "enter your namepadma\n",
            "padma\n",
            "<class 'str'>\n"
          ],
          "name": "stdout"
        }
      ]
    },
    {
      "cell_type": "code",
      "metadata": {
        "id": "mq3L0OAeO_NC",
        "colab_type": "code",
        "colab": {
          "base_uri": "https://localhost:8080/",
          "height": 67
        },
        "outputId": "23e4df03-9874-46f4-deeb-6a09d364ddd5"
      },
      "source": [
        "b=int(input(\"enter the age\"))\n",
        "print(b)\n",
        "print(type(b))"
      ],
      "execution_count": 31,
      "outputs": [
        {
          "output_type": "stream",
          "text": [
            "enter the age20\n",
            "20\n",
            "<class 'int'>\n"
          ],
          "name": "stdout"
        }
      ]
    },
    {
      "cell_type": "markdown",
      "metadata": {
        "id": "tNGFq8UAPPvg",
        "colab_type": "text"
      },
      "source": [
        "# Operators\n",
        "\n",
        "\n",
        "*   operators is a symbol \n",
        "\n",
        "\n",
        "\n"
      ]
    },
    {
      "cell_type": "markdown",
      "metadata": {
        "id": "QA2NDwwAPkir",
        "colab_type": "text"
      },
      "source": [
        "# Arithmetic operators\n",
        "\n",
        "*   +\n",
        "*   -\n",
        "*   *\n",
        "*   /\n",
        "*   %\n",
        "*   //-floor\n",
        "*   ** -power\n",
        "\n"
      ]
    },
    {
      "cell_type": "code",
      "metadata": {
        "id": "hpUUbSnJPyKq",
        "colab_type": "code",
        "colab": {
          "base_uri": "https://localhost:8080/",
          "height": 134
        },
        "outputId": "332f374f-f91a-416b-8b18-eeebb9ab6bdf"
      },
      "source": [
        "a=1234\n",
        "print(a+10)\n",
        "print(a-10)\n",
        "print(a*10)\n",
        "print(a/10)\n",
        "print(a%10)\n",
        "print(a//10)\n",
        "print(a**10)"
      ],
      "execution_count": 34,
      "outputs": [
        {
          "output_type": "stream",
          "text": [
            "1244\n",
            "1224\n",
            "12340\n",
            "123.4\n",
            "4\n",
            "123\n",
            "8187505353567209228244052427776\n"
          ],
          "name": "stdout"
        }
      ]
    },
    {
      "cell_type": "markdown",
      "metadata": {
        "id": "vhLMkH9ySsHF",
        "colab_type": "text"
      },
      "source": [
        "# relational operators\n",
        "\n",
        "*  >,<,=,>=,<=,==,!=\n",
        "\n",
        "\n"
      ]
    },
    {
      "cell_type": "code",
      "metadata": {
        "id": "7rbYYtWmSayh",
        "colab_type": "code",
        "colab": {
          "base_uri": "https://localhost:8080/",
          "height": 34
        },
        "outputId": "fba8693f-098e-4dd7-ff25-a54bdb0614ab"
      },
      "source": [
        "x=10\n",
        "a1=x>15\n",
        "print(a1)"
      ],
      "execution_count": 35,
      "outputs": [
        {
          "output_type": "stream",
          "text": [
            "False\n"
          ],
          "name": "stdout"
        }
      ]
    },
    {
      "cell_type": "markdown",
      "metadata": {
        "id": "m8SOGb5tS-SK",
        "colab_type": "text"
      },
      "source": [
        "# Logical Operators\n",
        "\n",
        "*   and \n",
        "*    or\n",
        "*    not\n",
        "\n",
        "\n",
        "\n"
      ]
    },
    {
      "cell_type": "code",
      "metadata": {
        "id": "z-EBbPczTNC6",
        "colab_type": "code",
        "colab": {
          "base_uri": "https://localhost:8080/",
          "height": 67
        },
        "outputId": "b3bcb1ff-bae1-4f1e-b2b7-e7144bb7ac35"
      },
      "source": [
        "i=100\n",
        "a1=(i>15) and (i<800)\n",
        "a2=(i>15) and (i<80)\n",
        "print(a1)\n",
        "print(a2)\n",
        "i=not 100\n",
        "print(i)\n"
      ],
      "execution_count": 40,
      "outputs": [
        {
          "output_type": "stream",
          "text": [
            "True\n",
            "False\n",
            "False\n"
          ],
          "name": "stdout"
        }
      ]
    },
    {
      "cell_type": "code",
      "metadata": {
        "id": "pk8YTkvNUUNw",
        "colab_type": "code",
        "colab": {}
      },
      "source": [
        ""
      ],
      "execution_count": 0,
      "outputs": []
    },
    {
      "cell_type": "markdown",
      "metadata": {
        "id": "i7qKu0R5UpPi",
        "colab_type": "text"
      },
      "source": [
        "# control flow statements\n",
        "\n",
        "*   conditonal stmts\n",
        "*    looping stmts\n",
        "\n",
        "\n"
      ]
    },
    {
      "cell_type": "code",
      "metadata": {
        "id": "MV8mYhOYUzd-",
        "colab_type": "code",
        "colab": {}
      },
      "source": [
        ""
      ],
      "execution_count": 0,
      "outputs": []
    },
    {
      "cell_type": "markdown",
      "metadata": {
        "id": "G4tN530NVBfE",
        "colab_type": "text"
      },
      "source": [
        "# if else stmt\n",
        "syntax\n",
        "\n",
        " if boolean_condition\n",
        "\n",
        " statements\n",
        "\n",
        " else\n",
        " \n",
        " statements"
      ]
    },
    {
      "cell_type": "code",
      "metadata": {
        "id": "5oO46VxsVFVc",
        "colab_type": "code",
        "colab": {
          "base_uri": "https://localhost:8080/",
          "height": 50
        },
        "outputId": "342025b5-c95f-411c-b8a1-6c0c3209fc64"
      },
      "source": [
        "n=int(input(\"enter a number\"))\n",
        "if n%2==0:\n",
        "  print(n,\"number is even\")\n",
        "else:\n",
        "  print(n,\"number is odd\")\n",
        "\n"
      ],
      "execution_count": 43,
      "outputs": [
        {
          "output_type": "stream",
          "text": [
            "enter a number24\n",
            "24 number is even\n"
          ],
          "name": "stdout"
        }
      ]
    },
    {
      "cell_type": "code",
      "metadata": {
        "id": "rizqMwUDW92L",
        "colab_type": "code",
        "colab": {
          "base_uri": "https://localhost:8080/",
          "height": 50
        },
        "outputId": "b8e9bb1a-5dd2-4929-f9e1-5f071b554a97"
      },
      "source": [
        "# to check the perfectly multiples of 3 and 5\n",
        "n=int(input(\"enter a number\"))\n",
        "if(n%3==0) and (n%5==0):\n",
        "  print(\"yes\")\n",
        "else:\n",
        "  print(\"no\")\n"
      ],
      "execution_count": 45,
      "outputs": [
        {
          "output_type": "stream",
          "text": [
            "enter a number15\n",
            "yes\n"
          ],
          "name": "stdout"
        }
      ]
    },
    {
      "cell_type": "code",
      "metadata": {
        "id": "PV-EBRxqW9yo",
        "colab_type": "code",
        "colab": {
          "base_uri": "https://localhost:8080/",
          "height": 50
        },
        "outputId": "deeee7a4-2286-4367-ddd0-76a57c48b1a6"
      },
      "source": [
        "# given number is positive or negitive or zero\n",
        "n=int(input(\"enter a number\"))\n",
        "if n>0:\n",
        "  print(\"positive\")\n",
        "elif n<0:\n",
        "  print(\"negative\")\n",
        "else:\n",
        "  print(\"zero\")\n"
      ],
      "execution_count": 49,
      "outputs": [
        {
          "output_type": "stream",
          "text": [
            "enter a number-3\n",
            "negative\n"
          ],
          "name": "stdout"
        }
      ]
    },
    {
      "cell_type": "code",
      "metadata": {
        "id": "HyWQuhEDaEm2",
        "colab_type": "code",
        "colab": {
          "base_uri": "https://localhost:8080/",
          "height": 84
        },
        "outputId": "584da499-4709-4276-82d4-d8f2d0ae1f7e"
      },
      "source": [
        "# largest of three numbers\n",
        "n1=int(input(\"enter a number\"))\n",
        "n2=int(input(\"enter a number\"))\n",
        "n3=int(input(\"enter a number\"))\n",
        "if  n1>n2 and n1>n3:\n",
        "  print(n1)\n",
        "elif n2>n3:\n",
        "  print(n2)\n",
        "else:\n",
        "  print(n3)"
      ],
      "execution_count": 47,
      "outputs": [
        {
          "output_type": "stream",
          "text": [
            "enter a number23\n",
            "enter a number43\n",
            "enter a number12\n",
            "43\n"
          ],
          "name": "stdout"
        }
      ]
    },
    {
      "cell_type": "code",
      "metadata": {
        "id": "iDRdr70cdckt",
        "colab_type": "code",
        "colab": {
          "base_uri": "https://localhost:8080/",
          "height": 50
        },
        "outputId": "772b71f6-b370-4dd8-e7c8-be6358f3c9d5"
      },
      "source": [
        "# find a leap year\n",
        "n=int(input(\"enter an year\"))\n",
        "if n%4==0:\n",
        "  print(\"leap year\")\n",
        "elif n%100==0:\n",
        "  print(\" not leap year\")\n",
        "elif n%400==0:\n",
        "  print(\"leap year\")\n",
        "else:\n",
        "  print(\"not leap year\")\n"
      ],
      "execution_count": 58,
      "outputs": [
        {
          "output_type": "stream",
          "text": [
            "enter an year1900\n",
            "leap year\n"
          ],
          "name": "stdout"
        }
      ]
    }
  ]
}